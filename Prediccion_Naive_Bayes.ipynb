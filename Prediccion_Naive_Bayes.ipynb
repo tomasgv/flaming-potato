{
  "nbformat": 4,
  "nbformat_minor": 0,
  "metadata": {
    "colab": {
      "name": "PrediccionNotas.ipynb",
      "provenance": []
    },
    "kernelspec": {
      "name": "python_defaultSpec_1598330483992",
      "display_name": "Python 3.8.2 64-bit"
    }
  },
  "cells": [
    {
      "cell_type": "code",
      "metadata": {
        "id": "NhV0fcfzL3b_",
        "colab_type": "code",
        "colab": {}
      },
      "source": [
        "import pandas as pd\n",
        "import numpy as np\n",
        "from sklearn.naive_bayes import GaussianNB\n",
        "from sklearn.model_selection import train_test_split"
      ],
      "execution_count": 1,
      "outputs": []
    },
    {
      "cell_type": "code",
      "metadata": {
        "id": "vDc_r3fmMm5O",
        "colab_type": "code",
        "colab": {
          "base_uri": "https://localhost:8080/",
          "height": 419
        },
        "outputId": "6e3751e3-93a5-4a85-cf79-318e74e68e0d"
      },
      "source": [
        "file_2019_2 = 'data/Notas-2019-2.xlsx'\n",
        "file_2020_1 = 'data/Notas-2020-1.xlsx'\n",
        "# Agregar columna AI a 2020-1 para quitar quienes retiraron el curso\n",
        "df_2019_2 = pd.read_excel(file_2019_2, index_col=None, na_values=['NA'], nrows=381, usecols='R,AH')\n",
        "df_2020_1 = pd.read_excel(file_2020_1, index_col=None, na_values=['NA'], nrows=382, usecols='S,AH')\n",
        "\n",
        "# Rename columns\n",
        "df_2019_2.columns = ['T00', 'Final']\n",
        "df_2020_1.columns = ['T00', 'Final']\n",
        "\n",
        "# Concatenate n stuff\n",
        "concatenate = [df_2019_2, df_2020_1]\n",
        "df = pd.concat(concatenate).dropna()\n",
        "df = df[df.Final != 'P'].apply(pd.to_numeric)\n",
        "df.index = range(760)\n",
        "df = df.apply(lambda x: x*100, axis=1)\n",
        "df"
      ],
      "execution_count": 3,
      "outputs": [
        {
          "output_type": "execute_result",
          "data": {
            "text/plain": "       T00       Final\n0    100.0  100.000000\n1    481.0  486.330556\n2    613.0  400.000000\n3    720.0  557.628571\n4    659.0  739.863492\n..     ...         ...\n755  100.0  100.000000\n756  550.0  550.000000\n757  670.0  700.000000\n758  210.0  110.000000\n759  420.0  320.000000\n\n[760 rows x 2 columns]",
            "text/html": "<div>\n<style scoped>\n    .dataframe tbody tr th:only-of-type {\n        vertical-align: middle;\n    }\n\n    .dataframe tbody tr th {\n        vertical-align: top;\n    }\n\n    .dataframe thead th {\n        text-align: right;\n    }\n</style>\n<table border=\"1\" class=\"dataframe\">\n  <thead>\n    <tr style=\"text-align: right;\">\n      <th></th>\n      <th>T00</th>\n      <th>Final</th>\n    </tr>\n  </thead>\n  <tbody>\n    <tr>\n      <th>0</th>\n      <td>100.0</td>\n      <td>100.000000</td>\n    </tr>\n    <tr>\n      <th>1</th>\n      <td>481.0</td>\n      <td>486.330556</td>\n    </tr>\n    <tr>\n      <th>2</th>\n      <td>613.0</td>\n      <td>400.000000</td>\n    </tr>\n    <tr>\n      <th>3</th>\n      <td>720.0</td>\n      <td>557.628571</td>\n    </tr>\n    <tr>\n      <th>4</th>\n      <td>659.0</td>\n      <td>739.863492</td>\n    </tr>\n    <tr>\n      <th>...</th>\n      <td>...</td>\n      <td>...</td>\n    </tr>\n    <tr>\n      <th>755</th>\n      <td>100.0</td>\n      <td>100.000000</td>\n    </tr>\n    <tr>\n      <th>756</th>\n      <td>550.0</td>\n      <td>550.000000</td>\n    </tr>\n    <tr>\n      <th>757</th>\n      <td>670.0</td>\n      <td>700.000000</td>\n    </tr>\n    <tr>\n      <th>758</th>\n      <td>210.0</td>\n      <td>110.000000</td>\n    </tr>\n    <tr>\n      <th>759</th>\n      <td>420.0</td>\n      <td>320.000000</td>\n    </tr>\n  </tbody>\n</table>\n<p>760 rows × 2 columns</p>\n</div>"
          },
          "metadata": {},
          "execution_count": 3
        }
      ]
    },
    {
      "cell_type": "code",
      "metadata": {
        "id": "nUd2OZFVQsXU",
        "colab_type": "code",
        "colab": {
          "base_uri": "https://localhost:8080/",
          "height": 867
        },
        "outputId": "2f7674c8-e8e9-4f35-dfc1-b5212ee0eeba"
      },
      "source": [
        "train_data = df[['T00', 'Final']].to_numpy()\n",
        "train, test = train_test_split(train_data, test_size=0.3)\n",
        "\n",
        "train_x, train_y  = train[:, [True, False]], train[:, [False, True]]\n",
        "test_x, test_y = test[:, [True, False]], test[:, [False, True]]\n",
        "\n",
        "train_x = train_x.astype('int')\n",
        "train_y = train_y.astype('int')\n",
        "test_x = test_x.astype('int')\n",
        "test_y = test_y.astype('int')\n",
        "\n",
        "\n",
        "gaussian = GaussianNB()\n",
        "gaussian.fit(train_x, train_y)\n",
        "\n",
        "pred_y = gaussian.predict(test_x)\n",
        "\n",
        "pred_y\n",
        "\n"
      ],
      "execution_count": 4,
      "outputs": [
        {
          "output_type": "execute_result",
          "data": {
            "text/plain": "array([390, 390, 700, 100, 542, 568, 489, 479, 360, 700, 414, 644, 400,\n       644, 516, 404, 700, 700, 542, 100, 110, 542, 255, 700, 400, 400,\n       700, 390, 700, 420, 400, 100, 400, 301, 700, 170, 507, 700, 400,\n       400, 170, 301, 340, 700, 390, 700, 542, 387, 170, 170, 700, 431,\n       420, 700, 290, 400, 390, 700, 360, 700, 400, 459, 644, 240, 170,\n       700, 170, 700, 459, 420, 568, 516, 700, 404, 516, 475, 700, 170,\n       400, 568, 568, 253, 700, 504, 390, 700, 400, 170, 489, 170, 700,\n       170, 459, 700, 700, 400, 700, 390, 400, 585, 290, 700, 606, 100,\n       700, 617, 489, 390, 290, 507, 644, 431, 390, 700, 414, 489, 170,\n       350, 585, 499, 253, 700, 350, 615, 414, 611, 504, 400, 700, 233,\n       504, 700, 340, 100, 170, 504, 617, 240, 170, 431, 489, 414, 700,\n       350, 700, 617, 489, 700, 542, 568, 700, 360, 400, 700, 617, 542,\n       110, 469, 516, 431, 489, 412, 400, 542, 340, 459, 499, 170, 414,\n       568, 170, 700, 340, 100, 700, 250, 516, 700, 390, 459, 390, 420,\n       390, 700, 467, 340, 404, 639, 542, 700, 400, 390, 197, 110, 390,\n       188, 390, 568, 459, 100, 700, 100, 504, 390, 700, 568, 542, 100,\n       700, 700, 100, 700, 390, 700, 700, 568, 644, 568, 400, 489, 504,\n       100, 170, 330, 350, 700, 100, 700])"
          },
          "metadata": {},
          "execution_count": 4
        }
      ]
    },
    {
      "cell_type": "code",
      "execution_count": 5,
      "metadata": {
        "tags": []
      },
      "outputs": [
        {
          "output_type": "stream",
          "name": "stdout",
          "text": "Matriz de confusión\n[[ 20  22]\n [ 56 130]]\n"
        }
      ],
      "source": [
        "from sklearn.metrics import confusion_matrix\n",
        "\n",
        "f = lambda x: 1 if x > 395 else 0\n",
        "bool_test = np.array(list(map(f, test_y)))\n",
        "bool_pred = np.array(list(map(f, pred_y)))\n",
        "matriz = confusion_matrix(bool_test, bool_pred)\n",
        "\n",
        "print('Matriz de confusión')\n",
        "print(matriz)"
      ]
    },
    {
      "cell_type": "code",
      "execution_count": 6,
      "metadata": {
        "tags": []
      },
      "outputs": [
        {
          "output_type": "stream",
          "name": "stdout",
          "text": "Precisión aprobados/reprobados\n0.8552631578947368\nPrecisión de notas\n0.04824561403508772\n"
        }
      ],
      "source": [
        "from sklearn.metrics import precision_score\n",
        "\n",
        "precision = precision_score(bool_test, bool_pred)\n",
        "\n",
        "precision_real = precision_score(test_y, pred_y, average='micro')\n",
        "\n",
        "print('Precisión aprobados/reprobados')\n",
        "print(precision)\n",
        "\n",
        "print('Precisión de notas')\n",
        "print(precision_real)"
      ]
    }
  ]
}