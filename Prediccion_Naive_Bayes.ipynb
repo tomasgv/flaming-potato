{
  "nbformat": 4,
  "nbformat_minor": 0,
  "metadata": {
    "colab": {
      "name": "PrediccionNotas.ipynb",
      "provenance": []
    },
    "kernelspec": {
      "name": "Python 3.8.2 64-bit",
      "display_name": "Python 3.8.2 64-bit",
      "metadata": {
        "interpreter": {
          "hash": "aee8b7b246df8f9039afb4144a1f6fd8d2ca17a180786b69acc140d282b71a49"
        }
      }
    }
  },
  "cells": [
    {
      "source": [
        "# Predicción de Rendimiento Académico usando Naive Bayes\n",
        "\n",
        "Como se menciona en el archivo README.md, este modelo es uno de los más efectivos según varios estudios relacionados con el tema. Sin embargo, se debe probar su precisión teniendo en cuenta los datos previos del curso objetivo para determinar si el modelo es de utilidad en este caso particular.\n",
        "\n",
        "Se comienza importando las librerías a utilizar:"
      ],
      "cell_type": "markdown",
      "metadata": {}
    },
    {
      "cell_type": "code",
      "metadata": {
        "id": "NhV0fcfzL3b_",
        "colab_type": "code",
        "colab": {}
      },
      "source": [
        "import pandas as pd\n",
        "import numpy as np\n",
        "from sklearn.naive_bayes import GaussianNB\n",
        "from sklearn.model_selection import train_test_split"
      ],
      "execution_count": 1,
      "outputs": []
    },
    {
      "source": [
        "Para el entrenamiento del modelo, se utilizarán datos de los dos semestres anteriores al curso. En particular, serán de interés las primeras notas (AS01 y T00) para la predicción, ya que ese es el momento para detectar tempranamente aquellos casos que pueden necesitar apoyo en el desarrollo del curso."
      ],
      "cell_type": "markdown",
      "metadata": {}
    },
    {
      "cell_type": "code",
      "execution_count": 2,
      "metadata": {},
      "outputs": [],
      "source": [
        "# Cargado de archivos\n",
        "file_2019_2 = 'data/Notas-2019-2.xlsx'\n",
        "file_2020_1 = 'data/Notas-2020-1.xlsx'\n",
        "df_2019_2 = pd.read_excel(file_2019_2, index_col=None, na_values=['NA'], nrows=381, usecols='B,N,AC', skiprows=2)\n",
        "df_2020_1 = pd.read_excel(file_2020_1, index_col=None, na_values=['NA'], nrows=382, usecols='B,L,V,W', skiprows=1)\n",
        "\n",
        "# Se renombran las columnas\n",
        "df_2019_2.columns = ['AS01', 'T00', 'Final']\n",
        "df_2020_1.columns = ['AS01', 'T00', 'Final', 'Retira']\n",
        "\n",
        "# Se quitan quienes retiraron el curso 2020-1\n",
        "df_2020_1 = df_2020_1[df_2020_1.Retira != 'RETIRO'][['AS01', 'T00', 'Final']]\n"
      ]
    },
    {
      "source": [
        "Se procede a unir ambos `DataFrames` y a preprocesar los datos:"
      ],
      "cell_type": "markdown",
      "metadata": {}
    },
    {
      "cell_type": "code",
      "metadata": {
        "id": "vDc_r3fmMm5O",
        "colab_type": "code",
        "colab": {
          "base_uri": "https://localhost:8080/",
          "height": 419
        },
        "outputId": "6e3751e3-93a5-4a85-cf79-318e74e68e0d"
      },
      "source": [
        "# Se concatenan los DataFrames y se hace el preprocesamiento\n",
        "concatenate = [df_2019_2, df_2020_1]\n",
        "df = pd.concat(concatenate).dropna()\n",
        "df = df[df.Final != 'P'].apply(pd.to_numeric)\n",
        "df.index = range(len(df.index))\n",
        "df = df.apply(lambda x: x*100, axis=1)"
      ],
      "execution_count": 3,
      "outputs": []
    },
    {
      "source": [
        "Una vez listos los datos, se entrena el modelo y se realiza la predicción:"
      ],
      "cell_type": "markdown",
      "metadata": {}
    },
    {
      "cell_type": "code",
      "metadata": {
        "id": "nUd2OZFVQsXU",
        "colab_type": "code",
        "colab": {
          "base_uri": "https://localhost:8080/",
          "height": 867
        },
        "outputId": "2f7674c8-e8e9-4f35-dfc1-b5212ee0eeba"
      },
      "source": [
        "train_data = df[['AS01', 'T00', 'Final']].to_numpy()\n",
        "\n",
        "train, test = train_test_split(train_data, test_size=0.3)\n",
        "\n",
        "train_x, train_y  = train[:, [True, True, False]], train[:, [False, False, True]]\n",
        "test_x, test_y = test[:, [True, True, False]], test[:, [False, False, True]]\n",
        "\n",
        "train_x = train_x.astype('int')\n",
        "train_y = train_y.astype('int')\n",
        "test_x = test_x.astype('int')\n",
        "test_y = test_y.astype('int')\n",
        "\n",
        "\n",
        "gaussian = GaussianNB()\n",
        "gaussian.fit(train_x, train_y)\n",
        "\n",
        "pred_y = gaussian.predict(test_x)\n"
      ],
      "execution_count": 4,
      "outputs": []
    },
    {
      "source": [
        "Se procede a comparar los datos predichos con los reales, para saber la precisión del modelo. Es de importancia determinar con precisión quiénes aprobarán o reprobarán el curso, pero también se incluye la precisión de predicción exacta del promedio:"
      ],
      "cell_type": "markdown",
      "metadata": {}
    },
    {
      "cell_type": "code",
      "execution_count": 6,
      "metadata": {
        "tags": []
      },
      "outputs": [
        {
          "output_type": "stream",
          "name": "stdout",
          "text": "Precisión aprobados/reprobados: 91.28%\n\nPrecisión de notas: 12.02%\n"
        }
      ],
      "source": [
        "from sklearn.metrics import precision_score\n",
        "\n",
        "precision = precision_score(bool_test, bool_pred)\n",
        "\n",
        "precision_notas = precision_score(test_y, pred_y, average='micro')\n",
        "\n",
        "print(f'Precisión aprobados/reprobados: {round(precision*100, 2)}%')\n",
        "print(f'\\nPrecisión de notas: {round(precision_notas*100, 2)}%')"
      ]
    },
    {
      "source": [
        "Se obtuvo una alta precisión al determinar si un estudiante aprobará el curso o no a partir de las primeras dos evaluaciones, por lo que se establece que el modelo es de confianza para su utilización en predecir el rendimiento de quienes están actualmente en el curso."
      ],
      "cell_type": "markdown",
      "metadata": {}
    }
  ]
}