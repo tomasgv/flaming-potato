{
  "nbformat": 4,
  "nbformat_minor": 0,
  "metadata": {
    "colab": {
      "name": "PrediccionNotas.ipynb",
      "provenance": []
    },
    "kernelspec": {
      "name": "python3",
      "display_name": "Python 3"
    }
  },
  "cells": [
    {
      "cell_type": "code",
      "metadata": {
        "id": "NhV0fcfzL3b_",
        "colab_type": "code",
        "colab": {}
      },
      "source": [
        "import pandas as pd\n",
        "import numpy as np\n",
        "from sklearn.naive_bayes import GaussianNB\n",
        "from sklearn.model_selection import train_test_split"
      ],
      "execution_count": 34,
      "outputs": []
    },
    {
      "cell_type": "code",
      "metadata": {
        "id": "vDc_r3fmMm5O",
        "colab_type": "code",
        "colab": {
          "base_uri": "https://localhost:8080/",
          "height": 419
        },
        "outputId": "6e3751e3-93a5-4a85-cf79-318e74e68e0d"
      },
      "source": [
        "file_2019_2 = 'Notas(2019-2).xlsx'\n",
        "file_2020_1 = 'Notas(2020-1).xlsx'\n",
        "# Agregar columna AI a 2020-1 para quitar quienes retiraron el curso\n",
        "df_2019_2 = pd.read_excel(file_2019_2, index_col=None, na_values=['NA'], nrows=381, usecols='R,AH')\n",
        "df_2020_1 = pd.read_excel(file_2020_1, index_col=None, na_values=['NA'], nrows=382, usecols='S,AH')\n",
        "\n",
        "# Rename columns\n",
        "df_2019_2.columns = ['T00', 'Final']\n",
        "df_2020_1.columns = ['T00', 'Final']\n",
        "\n",
        "# Concatenate n stuff\n",
        "concatenate = [df_2019_2, df_2020_1]\n",
        "df = pd.concat(concatenate).dropna()\n",
        "df = df[df.Final != 'P'].apply(pd.to_numeric)\n",
        "df.index = range(760)\n",
        "df"
      ],
      "execution_count": 52,
      "outputs": [
        {
          "output_type": "execute_result",
          "data": {
            "text/html": [
              "<div>\n",
              "<style scoped>\n",
              "    .dataframe tbody tr th:only-of-type {\n",
              "        vertical-align: middle;\n",
              "    }\n",
              "\n",
              "    .dataframe tbody tr th {\n",
              "        vertical-align: top;\n",
              "    }\n",
              "\n",
              "    .dataframe thead th {\n",
              "        text-align: right;\n",
              "    }\n",
              "</style>\n",
              "<table border=\"1\" class=\"dataframe\">\n",
              "  <thead>\n",
              "    <tr style=\"text-align: right;\">\n",
              "      <th></th>\n",
              "      <th>T00</th>\n",
              "      <th>Final</th>\n",
              "    </tr>\n",
              "  </thead>\n",
              "  <tbody>\n",
              "    <tr>\n",
              "      <th>0</th>\n",
              "      <td>1.00</td>\n",
              "      <td>1.000000</td>\n",
              "    </tr>\n",
              "    <tr>\n",
              "      <th>1</th>\n",
              "      <td>4.81</td>\n",
              "      <td>4.863306</td>\n",
              "    </tr>\n",
              "    <tr>\n",
              "      <th>2</th>\n",
              "      <td>6.13</td>\n",
              "      <td>4.000000</td>\n",
              "    </tr>\n",
              "    <tr>\n",
              "      <th>3</th>\n",
              "      <td>7.20</td>\n",
              "      <td>5.576286</td>\n",
              "    </tr>\n",
              "    <tr>\n",
              "      <th>4</th>\n",
              "      <td>6.59</td>\n",
              "      <td>7.398635</td>\n",
              "    </tr>\n",
              "    <tr>\n",
              "      <th>...</th>\n",
              "      <td>...</td>\n",
              "      <td>...</td>\n",
              "    </tr>\n",
              "    <tr>\n",
              "      <th>755</th>\n",
              "      <td>1.00</td>\n",
              "      <td>1.000000</td>\n",
              "    </tr>\n",
              "    <tr>\n",
              "      <th>756</th>\n",
              "      <td>5.50</td>\n",
              "      <td>5.500000</td>\n",
              "    </tr>\n",
              "    <tr>\n",
              "      <th>757</th>\n",
              "      <td>6.70</td>\n",
              "      <td>7.000000</td>\n",
              "    </tr>\n",
              "    <tr>\n",
              "      <th>758</th>\n",
              "      <td>2.10</td>\n",
              "      <td>1.100000</td>\n",
              "    </tr>\n",
              "    <tr>\n",
              "      <th>759</th>\n",
              "      <td>4.20</td>\n",
              "      <td>3.200000</td>\n",
              "    </tr>\n",
              "  </tbody>\n",
              "</table>\n",
              "<p>760 rows × 2 columns</p>\n",
              "</div>"
            ],
            "text/plain": [
              "      T00     Final\n",
              "0    1.00  1.000000\n",
              "1    4.81  4.863306\n",
              "2    6.13  4.000000\n",
              "3    7.20  5.576286\n",
              "4    6.59  7.398635\n",
              "..    ...       ...\n",
              "755  1.00  1.000000\n",
              "756  5.50  5.500000\n",
              "757  6.70  7.000000\n",
              "758  2.10  1.100000\n",
              "759  4.20  3.200000\n",
              "\n",
              "[760 rows x 2 columns]"
            ]
          },
          "metadata": {
            "tags": []
          },
          "execution_count": 52
        }
      ]
    },
    {
      "cell_type": "code",
      "metadata": {
        "id": "nUd2OZFVQsXU",
        "colab_type": "code",
        "colab": {
          "base_uri": "https://localhost:8080/",
          "height": 867
        },
        "outputId": "2f7674c8-e8e9-4f35-dfc1-b5212ee0eeba"
      },
      "source": [
        "train, test = train_test_split(df, test_size=0.3)\n",
        "print(train['T00'])\n",
        "print(train['T00'].to_numpy())\n",
        "\n",
        "#gaussian = GaussianNB()\n",
        "#gaussian.fit(train['T00'].to_numpy(), train['Final'].to_numpy())\n",
        "\n",
        "#gaussian.predict(text['T00'])\n",
        "\n",
        "\n"
      ],
      "execution_count": 54,
      "outputs": [
        {
          "output_type": "stream",
          "text": [
            "656    5.60\n",
            "634    6.20\n",
            "665    6.80\n",
            "512    5.50\n",
            "739    5.50\n",
            "       ... \n",
            "88     6.92\n",
            "169    1.85\n",
            "126    6.51\n",
            "78     5.53\n",
            "105    6.84\n",
            "Name: T00, Length: 532, dtype: float64\n",
            "[5.6  6.2  6.8  5.5  5.5  5.8  3.6  6.59 6.3  6.7  6.92 4.09 7.04 5.78\n",
            " 6.76 5.1  6.7  7.   6.43 7.2  7.   2.71 1.   5.46 6.66 6.   6.92 4.7\n",
            " 7.   5.46 6.27 6.43 6.8  2.1  4.65 3.6  7.2  6.6  5.46 5.73 6.31 5.05\n",
            " 4.8  6.51 7.2  6.11 6.5  4.49 6.19 6.9  7.02 6.38 6.35 6.7  5.95 6.68\n",
            " 6.43 4.54 6.92 5.99 6.   6.3  6.   5.6  6.3  2.83 6.84 1.7  7.   6.56\n",
            " 4.8  6.7  6.92 1.   7.2  5.1  6.1  7.   6.19 5.4  6.8  7.1  6.4  5.7\n",
            " 6.5  1.6  7.   3.7  4.4  6.43 7.   6.11 6.72 7.   6.84 7.2  6.51 6.6\n",
            " 6.6  3.6  6.7  6.4  5.58 7.   6.68 7.   5.46 1.   6.51 6.7  1.   4.78\n",
            " 5.93 6.5  6.51 6.6  6.84 6.47 6.84 6.31 6.2  4.28 2.95 5.8  6.15 7.04\n",
            " 4.4  5.73 6.3  5.9  1.   6.2  6.44 6.68 6.55 3.42 7.   1.   6.7  5.2\n",
            " 5.7  5.1  1.   5.9  4.2  6.3  6.1  7.   6.7  5.97 5.8  7.   6.   5.7\n",
            " 6.96 6.6  6.43 7.   7.   6.33 4.5  5.95 6.45 6.   5.78 6.23 1.9  6.5\n",
            " 6.29 6.9  6.3  6.7  7.2  6.9  6.5  6.1  6.5  6.7  6.2  5.1  6.31 5.7\n",
            " 4.2  5.87 2.93 4.   1.   5.6  6.8  6.84 5.1  6.5  1.   7.   5.4  6.84\n",
            " 1.   6.84 2.1  5.08 5.4  4.65 7.   3.6  6.68 5.34 5.   6.5  5.59 6.2\n",
            " 6.3  6.7  6.8  5.6  6.35 6.6  6.7  6.68 6.8  1.   6.59 6.1  6.7  6.5\n",
            " 6.38 7.   5.6  6.8  6.29 7.12 6.49 6.92 6.5  6.3  2.78 7.12 5.   6.3\n",
            " 5.3  6.5  5.6  6.68 6.06 1.   6.76 6.8  5.3  7.   5.6  5.7  4.9  6.92\n",
            " 5.89 6.1  5.9  5.85 6.   6.68 7.   6.56 7.   6.84 2.54 5.87 6.8  6.01\n",
            " 5.71 6.92 5.9  6.01 5.75 7.   5.42 7.   6.76 6.7  7.   6.35 6.92 1.05\n",
            " 6.1  6.39 7.2  5.79 6.7  1.   5.9  7.   4.   6.58 6.27 4.2  4.31 6.45\n",
            " 5.53 5.9  6.68 6.4  1.   5.1  7.04 6.84 6.15 3.3  7.2  6.2  1.   6.72\n",
            " 6.7  6.3  6.6  6.1  5.2  6.84 7.   5.6  7.   5.78 1.   5.77 5.23 6.18\n",
            " 6.76 5.7  6.3  1.   5.4  5.3  5.4  6.7  6.8  6.88 1.7  7.   6.35 6.8\n",
            " 7.2  6.31 6.43 3.56 4.49 7.2  5.1  6.88 5.95 6.7  5.7  6.84 6.   6.56\n",
            " 4.71 6.7  6.   5.65 6.59 6.9  4.72 6.6  5.3  5.8  4.85 6.9  6.59 4.81\n",
            " 5.6  6.   4.49 6.7  5.6  6.19 5.9  6.7  5.2  6.7  6.6  6.13 6.1  6.4\n",
            " 5.78 6.   6.2  6.6  5.89 5.8  6.92 6.9  6.1  6.2  5.44 4.5  6.7  7.\n",
            " 5.05 6.3  6.8  6.3  6.5  7.2  3.8  7.   5.5  1.   3.9  5.7  7.2  6.1\n",
            " 7.2  6.4  5.7  5.37 5.   6.84 6.6  6.43 7.   6.   7.12 6.54 5.3  6.51\n",
            " 6.8  6.47 6.7  6.9  6.31 3.9  6.1  3.46 7.   6.38 6.27 6.11 6.2  6.84\n",
            " 1.   7.   3.3  6.1  6.43 7.   7.   5.32 5.5  5.28 7.04 1.   6.5  1.\n",
            " 6.31 3.9  1.   4.03 7.   6.7  6.59 4.63 7.   5.38 7.   1.   5.73 7.\n",
            " 6.3  1.2  6.88 6.1  6.6  7.2  5.24 6.9  6.6  6.8  6.   5.16 5.6  6.96\n",
            " 2.22 6.3  6.76 6.7  6.8  1.   1.   1.   4.3  5.69 4.32 5.93 7.   6.57\n",
            " 6.01 6.92 6.88 7.   7.   5.4  5.1  5.7  5.82 6.3  4.5  1.4  7.2  6.6\n",
            " 6.   5.7  6.15 7.2  7.04 4.39 6.84 5.4  5.7  5.4  1.   1.   6.35 5.6\n",
            " 7.   5.18 4.8  7.   4.8  6.51 6.92 6.11 7.   6.92 1.85 6.51 5.53 6.84]\n"
          ],
          "name": "stdout"
        }
      ]
    }
  ]
}